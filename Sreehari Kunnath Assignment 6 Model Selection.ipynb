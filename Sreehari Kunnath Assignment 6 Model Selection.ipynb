{
 "cells": [
  {
   "cell_type": "code",
   "execution_count": 1,
   "id": "d3fa3ccd",
   "metadata": {},
   "outputs": [],
   "source": [
    "# importing the libraries\n",
    "import pandas as pd\n",
    "import numpy as np\n",
    "import matplotlib.pyplot as plt\n",
    "import seaborn as sns"
   ]
  },
  {
   "cell_type": "code",
   "execution_count": 2,
   "id": "3bcb57cc",
   "metadata": {},
   "outputs": [],
   "source": [
    "# reading the csv file\n",
    "data = pd.read_csv(r'C:\\Users\\sreeh\\DSA\\Data-sets\\titanic_dataset.csv')"
   ]
  },
  {
   "cell_type": "code",
   "execution_count": 3,
   "id": "d56416d1",
   "metadata": {},
   "outputs": [
    {
     "data": {
      "text/html": [
       "<div>\n",
       "<style scoped>\n",
       "    .dataframe tbody tr th:only-of-type {\n",
       "        vertical-align: middle;\n",
       "    }\n",
       "\n",
       "    .dataframe tbody tr th {\n",
       "        vertical-align: top;\n",
       "    }\n",
       "\n",
       "    .dataframe thead th {\n",
       "        text-align: right;\n",
       "    }\n",
       "</style>\n",
       "<table border=\"1\" class=\"dataframe\">\n",
       "  <thead>\n",
       "    <tr style=\"text-align: right;\">\n",
       "      <th></th>\n",
       "      <th>PassengerId</th>\n",
       "      <th>Survived</th>\n",
       "      <th>Pclass</th>\n",
       "      <th>Name</th>\n",
       "      <th>Sex</th>\n",
       "      <th>Age</th>\n",
       "      <th>SibSp</th>\n",
       "      <th>Parch</th>\n",
       "      <th>Ticket</th>\n",
       "      <th>Fare</th>\n",
       "      <th>Cabin</th>\n",
       "      <th>Embarked</th>\n",
       "    </tr>\n",
       "  </thead>\n",
       "  <tbody>\n",
       "    <tr>\n",
       "      <th>0</th>\n",
       "      <td>1</td>\n",
       "      <td>0</td>\n",
       "      <td>3</td>\n",
       "      <td>Braund, Mr. Owen Harris</td>\n",
       "      <td>male</td>\n",
       "      <td>22.0</td>\n",
       "      <td>1</td>\n",
       "      <td>0</td>\n",
       "      <td>A/5 21171</td>\n",
       "      <td>7.2500</td>\n",
       "      <td>NaN</td>\n",
       "      <td>S</td>\n",
       "    </tr>\n",
       "    <tr>\n",
       "      <th>1</th>\n",
       "      <td>2</td>\n",
       "      <td>1</td>\n",
       "      <td>1</td>\n",
       "      <td>Cumings, Mrs. John Bradley (Florence Briggs Th...</td>\n",
       "      <td>female</td>\n",
       "      <td>38.0</td>\n",
       "      <td>1</td>\n",
       "      <td>0</td>\n",
       "      <td>PC 17599</td>\n",
       "      <td>71.2833</td>\n",
       "      <td>C85</td>\n",
       "      <td>C</td>\n",
       "    </tr>\n",
       "    <tr>\n",
       "      <th>2</th>\n",
       "      <td>3</td>\n",
       "      <td>1</td>\n",
       "      <td>3</td>\n",
       "      <td>Heikkinen, Miss. Laina</td>\n",
       "      <td>female</td>\n",
       "      <td>26.0</td>\n",
       "      <td>0</td>\n",
       "      <td>0</td>\n",
       "      <td>STON/O2. 3101282</td>\n",
       "      <td>7.9250</td>\n",
       "      <td>NaN</td>\n",
       "      <td>S</td>\n",
       "    </tr>\n",
       "    <tr>\n",
       "      <th>3</th>\n",
       "      <td>4</td>\n",
       "      <td>1</td>\n",
       "      <td>1</td>\n",
       "      <td>Futrelle, Mrs. Jacques Heath (Lily May Peel)</td>\n",
       "      <td>female</td>\n",
       "      <td>35.0</td>\n",
       "      <td>1</td>\n",
       "      <td>0</td>\n",
       "      <td>113803</td>\n",
       "      <td>53.1000</td>\n",
       "      <td>C123</td>\n",
       "      <td>S</td>\n",
       "    </tr>\n",
       "    <tr>\n",
       "      <th>4</th>\n",
       "      <td>5</td>\n",
       "      <td>0</td>\n",
       "      <td>3</td>\n",
       "      <td>Allen, Mr. William Henry</td>\n",
       "      <td>male</td>\n",
       "      <td>35.0</td>\n",
       "      <td>0</td>\n",
       "      <td>0</td>\n",
       "      <td>373450</td>\n",
       "      <td>8.0500</td>\n",
       "      <td>NaN</td>\n",
       "      <td>S</td>\n",
       "    </tr>\n",
       "  </tbody>\n",
       "</table>\n",
       "</div>"
      ],
      "text/plain": [
       "   PassengerId  Survived  Pclass  \\\n",
       "0            1         0       3   \n",
       "1            2         1       1   \n",
       "2            3         1       3   \n",
       "3            4         1       1   \n",
       "4            5         0       3   \n",
       "\n",
       "                                                Name     Sex   Age  SibSp  \\\n",
       "0                            Braund, Mr. Owen Harris    male  22.0      1   \n",
       "1  Cumings, Mrs. John Bradley (Florence Briggs Th...  female  38.0      1   \n",
       "2                             Heikkinen, Miss. Laina  female  26.0      0   \n",
       "3       Futrelle, Mrs. Jacques Heath (Lily May Peel)  female  35.0      1   \n",
       "4                           Allen, Mr. William Henry    male  35.0      0   \n",
       "\n",
       "   Parch            Ticket     Fare Cabin Embarked  \n",
       "0      0         A/5 21171   7.2500   NaN        S  \n",
       "1      0          PC 17599  71.2833   C85        C  \n",
       "2      0  STON/O2. 3101282   7.9250   NaN        S  \n",
       "3      0            113803  53.1000  C123        S  \n",
       "4      0            373450   8.0500   NaN        S  "
      ]
     },
     "execution_count": 3,
     "metadata": {},
     "output_type": "execute_result"
    }
   ],
   "source": [
    "# getting and idea of how the data looks\n",
    "data.head()"
   ]
  },
  {
   "cell_type": "code",
   "execution_count": 4,
   "id": "dd849f41",
   "metadata": {},
   "outputs": [
    {
     "data": {
      "text/plain": [
       "(891, 12)"
      ]
     },
     "execution_count": 4,
     "metadata": {},
     "output_type": "execute_result"
    }
   ],
   "source": [
    "# checking how many records are there\n",
    "data.shape"
   ]
  },
  {
   "cell_type": "code",
   "execution_count": 5,
   "id": "c5d9f338",
   "metadata": {},
   "outputs": [
    {
     "data": {
      "text/plain": [
       "891"
      ]
     },
     "execution_count": 5,
     "metadata": {},
     "output_type": "execute_result"
    }
   ],
   "source": [
    "# checking how many unique records PassengerId has\n",
    "data['PassengerId'].nunique()"
   ]
  },
  {
   "cell_type": "code",
   "execution_count": 6,
   "id": "cd3e000b",
   "metadata": {},
   "outputs": [],
   "source": [
    "# as PassengerId is just like an index, we will drop it\n",
    "data.drop('PassengerId', axis = 1, inplace = True)"
   ]
  },
  {
   "cell_type": "code",
   "execution_count": 7,
   "id": "5798078c",
   "metadata": {},
   "outputs": [
    {
     "data": {
      "text/plain": [
       "Survived      0\n",
       "Pclass        0\n",
       "Name          0\n",
       "Sex           0\n",
       "Age         177\n",
       "SibSp         0\n",
       "Parch         0\n",
       "Ticket        0\n",
       "Fare          0\n",
       "Cabin       687\n",
       "Embarked      2\n",
       "dtype: int64"
      ]
     },
     "execution_count": 7,
     "metadata": {},
     "output_type": "execute_result"
    }
   ],
   "source": [
    "# checking for null values\n",
    "data.isna().sum()"
   ]
  },
  {
   "cell_type": "code",
   "execution_count": 8,
   "id": "f29df864",
   "metadata": {},
   "outputs": [],
   "source": [
    "# cabin has too many null values to off any data of importance \n",
    "# dropping cabin\n",
    "data.drop('Cabin', axis =1, inplace =  True)"
   ]
  },
  {
   "cell_type": "code",
   "execution_count": 9,
   "id": "32c07e5d",
   "metadata": {},
   "outputs": [
    {
     "data": {
      "text/plain": [
       "681"
      ]
     },
     "execution_count": 9,
     "metadata": {},
     "output_type": "execute_result"
    }
   ],
   "source": [
    "# let us see which are other columns with a lot of unqiue values\n",
    "data['Ticket'].nunique()"
   ]
  },
  {
   "cell_type": "code",
   "execution_count": 10,
   "id": "eac57d6b",
   "metadata": {},
   "outputs": [],
   "source": [
    "# dropping the Ticket coulumn\n",
    "data.drop('Ticket', axis =1, inplace = True)"
   ]
  },
  {
   "cell_type": "code",
   "execution_count": 11,
   "id": "089257c1",
   "metadata": {},
   "outputs": [],
   "source": [
    "# rather than checking for unique values in Name column, extracting the title in the name column\n",
    "# save this title to create a Title column\n",
    "data['Title'] = data.Name.str.extract(' ([A-Za-z]+)\\.', expand=False)"
   ]
  },
  {
   "cell_type": "code",
   "execution_count": 12,
   "id": "15a171bb",
   "metadata": {},
   "outputs": [
    {
     "data": {
      "text/plain": [
       "array(['Mr', 'Mrs', 'Miss', 'Master', 'Don', 'Rev', 'Dr', 'Mme', 'Ms',\n",
       "       'Major', 'Lady', 'Sir', 'Mlle', 'Col', 'Capt', 'Countess',\n",
       "       'Jonkheer'], dtype=object)"
      ]
     },
     "execution_count": 12,
     "metadata": {},
     "output_type": "execute_result"
    }
   ],
   "source": [
    "# checking out the title values\n",
    "data['Title'].unique()"
   ]
  },
  {
   "cell_type": "code",
   "execution_count": 13,
   "id": "209393d0",
   "metadata": {},
   "outputs": [
    {
     "data": {
      "text/plain": [
       "Mr          517\n",
       "Miss        182\n",
       "Mrs         125\n",
       "Master       40\n",
       "Dr            7\n",
       "Rev           6\n",
       "Mlle          2\n",
       "Major         2\n",
       "Col           2\n",
       "Countess      1\n",
       "Capt          1\n",
       "Ms            1\n",
       "Sir           1\n",
       "Lady          1\n",
       "Mme           1\n",
       "Don           1\n",
       "Jonkheer      1\n",
       "Name: Title, dtype: int64"
      ]
     },
     "execution_count": 13,
     "metadata": {},
     "output_type": "execute_result"
    }
   ],
   "source": [
    "# cheking the distribution of titles\n",
    "data['Title'].value_counts()"
   ]
  },
  {
   "cell_type": "code",
   "execution_count": 14,
   "id": "b03d6ad1",
   "metadata": {},
   "outputs": [],
   "source": [
    "# converting lesser used titles into title named other.\n",
    "# also converting ms, mme, mlle into miss mrs and miss respectively\n",
    "data['Title'] = data['Title'].replace(['Dr', 'Rev', 'Col', 'Major', 'Countess', 'Sir', 'Jonkheer', 'Lady', 'Capt', 'Don'], 'Others')\n",
    "data['Title'] = data['Title'].replace('Ms', 'Miss')\n",
    "data['Title'] = data['Title'].replace('Mme', 'Mrs')\n",
    "data['Title'] = data['Title'].replace('Mlle', 'Miss')"
   ]
  },
  {
   "cell_type": "code",
   "execution_count": 15,
   "id": "fea9450a",
   "metadata": {},
   "outputs": [],
   "source": [
    "# using Title to fill out the missing values in age\n",
    "data['Age'] = data.groupby('Title')['Age'].transform(lambda x: x.fillna(x.mean()))"
   ]
  },
  {
   "cell_type": "code",
   "execution_count": 16,
   "id": "59899946",
   "metadata": {},
   "outputs": [
    {
     "data": {
      "text/plain": [
       "Survived    0\n",
       "Pclass      0\n",
       "Name        0\n",
       "Sex         0\n",
       "Age         0\n",
       "SibSp       0\n",
       "Parch       0\n",
       "Fare        0\n",
       "Embarked    2\n",
       "Title       0\n",
       "dtype: int64"
      ]
     },
     "execution_count": 16,
     "metadata": {},
     "output_type": "execute_result"
    }
   ],
   "source": [
    "# checking null values\n",
    "data.isna().sum()"
   ]
  },
  {
   "cell_type": "code",
   "execution_count": 17,
   "id": "96fcff2a",
   "metadata": {},
   "outputs": [],
   "source": [
    "# filling embarked with mode\n",
    "data['Embarked'] = data['Embarked'].fillna(data['Embarked'].mode()[0])"
   ]
  },
  {
   "cell_type": "code",
   "execution_count": 18,
   "id": "494c60ab",
   "metadata": {},
   "outputs": [
    {
     "data": {
      "text/plain": [
       "count    891.000000\n",
       "mean      32.204208\n",
       "std       49.693429\n",
       "min        0.000000\n",
       "25%        7.910400\n",
       "50%       14.454200\n",
       "75%       31.000000\n",
       "max      512.329200\n",
       "Name: Fare, dtype: float64"
      ]
     },
     "execution_count": 18,
     "metadata": {},
     "output_type": "execute_result"
    }
   ],
   "source": [
    "# concentrating on Fare column to check whether we should handle outliers.\n",
    "data['Fare'].describe()"
   ]
  },
  {
   "cell_type": "code",
   "execution_count": 19,
   "id": "0682cb98",
   "metadata": {},
   "outputs": [
    {
     "data": {
      "image/png": "[encoded data removed]",
      "text/plain": [
       "<Figure size 640x480 with 1 Axes>"
      ]
     },
     "metadata": {},
     "output_type": "display_data"
    }
   ],
   "source": [
    "# creating a high fare datframe to check how fare affects survival rate and plotting a graph\n",
    "high_fare = data[data['Fare']>100]\n",
    "high_fare['Survived'].value_counts().plot.bar()\n",
    "plt.show()"
   ]
  },
  {
   "cell_type": "markdown",
   "id": "fb1b2442",
   "metadata": {},
   "source": [
    "High passenger fare is correlated to high survival rates. So will not handle outliers in the fare column."
   ]
  },
  {
   "cell_type": "code",
   "execution_count": 20,
   "id": "75feab1d",
   "metadata": {},
   "outputs": [
    {
     "data": {
      "text/html": [
       "<div>\n",
       "<style scoped>\n",
       "    .dataframe tbody tr th:only-of-type {\n",
       "        vertical-align: middle;\n",
       "    }\n",
       "\n",
       "    .dataframe tbody tr th {\n",
       "        vertical-align: top;\n",
       "    }\n",
       "\n",
       "    .dataframe thead th {\n",
       "        text-align: right;\n",
       "    }\n",
       "</style>\n",
       "<table border=\"1\" class=\"dataframe\">\n",
       "  <thead>\n",
       "    <tr style=\"text-align: right;\">\n",
       "      <th></th>\n",
       "      <th>Survived</th>\n",
       "      <th>Pclass</th>\n",
       "      <th>Name</th>\n",
       "      <th>Sex</th>\n",
       "      <th>Age</th>\n",
       "      <th>SibSp</th>\n",
       "      <th>Parch</th>\n",
       "      <th>Fare</th>\n",
       "      <th>Embarked</th>\n",
       "      <th>Title</th>\n",
       "      <th>FamilySize</th>\n",
       "    </tr>\n",
       "  </thead>\n",
       "  <tbody>\n",
       "    <tr>\n",
       "      <th>0</th>\n",
       "      <td>0</td>\n",
       "      <td>3</td>\n",
       "      <td>Braund, Mr. Owen Harris</td>\n",
       "      <td>male</td>\n",
       "      <td>22.0</td>\n",
       "      <td>1</td>\n",
       "      <td>0</td>\n",
       "      <td>7.2500</td>\n",
       "      <td>S</td>\n",
       "      <td>Mr</td>\n",
       "      <td>1</td>\n",
       "    </tr>\n",
       "    <tr>\n",
       "      <th>1</th>\n",
       "      <td>1</td>\n",
       "      <td>1</td>\n",
       "      <td>Cumings, Mrs. John Bradley (Florence Briggs Th...</td>\n",
       "      <td>female</td>\n",
       "      <td>38.0</td>\n",
       "      <td>1</td>\n",
       "      <td>0</td>\n",
       "      <td>71.2833</td>\n",
       "      <td>C</td>\n",
       "      <td>Mrs</td>\n",
       "      <td>1</td>\n",
       "    </tr>\n",
       "    <tr>\n",
       "      <th>2</th>\n",
       "      <td>1</td>\n",
       "      <td>3</td>\n",
       "      <td>Heikkinen, Miss. Laina</td>\n",
       "      <td>female</td>\n",
       "      <td>26.0</td>\n",
       "      <td>0</td>\n",
       "      <td>0</td>\n",
       "      <td>7.9250</td>\n",
       "      <td>S</td>\n",
       "      <td>Miss</td>\n",
       "      <td>0</td>\n",
       "    </tr>\n",
       "    <tr>\n",
       "      <th>3</th>\n",
       "      <td>1</td>\n",
       "      <td>1</td>\n",
       "      <td>Futrelle, Mrs. Jacques Heath (Lily May Peel)</td>\n",
       "      <td>female</td>\n",
       "      <td>35.0</td>\n",
       "      <td>1</td>\n",
       "      <td>0</td>\n",
       "      <td>53.1000</td>\n",
       "      <td>S</td>\n",
       "      <td>Mrs</td>\n",
       "      <td>1</td>\n",
       "    </tr>\n",
       "    <tr>\n",
       "      <th>4</th>\n",
       "      <td>0</td>\n",
       "      <td>3</td>\n",
       "      <td>Allen, Mr. William Henry</td>\n",
       "      <td>male</td>\n",
       "      <td>35.0</td>\n",
       "      <td>0</td>\n",
       "      <td>0</td>\n",
       "      <td>8.0500</td>\n",
       "      <td>S</td>\n",
       "      <td>Mr</td>\n",
       "      <td>0</td>\n",
       "    </tr>\n",
       "  </tbody>\n",
       "</table>\n",
       "</div>"
      ],
      "text/plain": [
       "   Survived  Pclass                                               Name  \\\n",
       "0         0       3                            Braund, Mr. Owen Harris   \n",
       "1         1       1  Cumings, Mrs. John Bradley (Florence Briggs Th...   \n",
       "2         1       3                             Heikkinen, Miss. Laina   \n",
       "3         1       1       Futrelle, Mrs. Jacques Heath (Lily May Peel)   \n",
       "4         0       3                           Allen, Mr. William Henry   \n",
       "\n",
       "      Sex   Age  SibSp  Parch     Fare Embarked Title  FamilySize  \n",
       "0    male  22.0      1      0   7.2500        S    Mr           1  \n",
       "1  female  38.0      1      0  71.2833        C   Mrs           1  \n",
       "2  female  26.0      0      0   7.9250        S  Miss           0  \n",
       "3  female  35.0      1      0  53.1000        S   Mrs           1  \n",
       "4    male  35.0      0      0   8.0500        S    Mr           0  "
      ]
     },
     "execution_count": 20,
     "metadata": {},
     "output_type": "execute_result"
    }
   ],
   "source": [
    "# using FamilySize instead of two colums Sibsp and Parch\n",
    "data['FamilySize']  = data['SibSp'] + data['Parch']\n",
    "data.head()"
   ]
  },
  {
   "cell_type": "code",
   "execution_count": 21,
   "id": "a75d2172",
   "metadata": {},
   "outputs": [
    {
     "data": {
      "text/plain": [
       "Index(['Survived', 'Pclass', 'Name', 'Sex', 'Age', 'SibSp', 'Parch', 'Fare',\n",
       "       'Embarked', 'Title', 'FamilySize'],\n",
       "      dtype='object')"
      ]
     },
     "execution_count": 21,
     "metadata": {},
     "output_type": "execute_result"
    }
   ],
   "source": [
    "# checking columns \n",
    "data.columns"
   ]
  },
  {
   "cell_type": "code",
   "execution_count": 22,
   "id": "cc3cc278",
   "metadata": {},
   "outputs": [],
   "source": [
    "# removing unwanted columns\n",
    "data.drop(['Name','SibSp','Parch','Title'], axis =1, inplace = True)"
   ]
  },
  {
   "cell_type": "code",
   "execution_count": 23,
   "id": "73271898",
   "metadata": {},
   "outputs": [],
   "source": [
    "# converting into dependent and independent variables\n",
    "x = data.drop([\"Survived\"],axis=1)\n",
    "y = data[\"Survived\"]"
   ]
  },
  {
   "cell_type": "code",
   "execution_count": 24,
   "id": "6fddfa1e",
   "metadata": {},
   "outputs": [],
   "source": [
    "# label encoding the sex and embarked columns\n",
    "from sklearn.preprocessing import LabelEncoder\n",
    "le = LabelEncoder()\n",
    "x[\"Sex\"] = le.fit_transform(x[\"Sex\"])\n",
    "x[\"Embarked\"] = le.fit_transform(x[\"Embarked\"])"
   ]
  },
  {
   "cell_type": "code",
   "execution_count": 25,
   "id": "18259a36",
   "metadata": {},
   "outputs": [],
   "source": [
    "# converting the resultant array back to a dataframe\n",
    "x = pd.DataFrame(x, columns = [\"Pclass\",\"Sex\",\"Age\",\"Fare\",\"Embarked\",\"FamilySize\"])"
   ]
  },
  {
   "cell_type": "code",
   "execution_count": 26,
   "id": "adef672b",
   "metadata": {},
   "outputs": [],
   "source": [
    "# using Standard Scaling\n",
    "from sklearn.preprocessing import StandardScaler\n",
    "std_scaler = StandardScaler()\n",
    "x = std_scaler.fit_transform(x)\n",
    "x = pd.DataFrame(x, columns = [\"Pclass\",\"Sex\",\"Age\",\"Fare\",\"Embarked\",\"Familysize\"])"
   ]
  },
  {
   "cell_type": "code",
   "execution_count": 27,
   "id": "c7c234d2",
   "metadata": {},
   "outputs": [],
   "source": [
    "# splitting the data into train and test\n",
    "from sklearn.model_selection import train_test_split\n",
    "x_train,x_test,y_train,y_test = train_test_split(x,y,test_size=0.2,random_state=42)"
   ]
  },
  {
   "cell_type": "markdown",
   "id": "dfbb2b5a",
   "metadata": {},
   "source": [
    "### K Neighbors Classifier"
   ]
  },
  {
   "cell_type": "code",
   "execution_count": 28,
   "id": "056b90d1",
   "metadata": {},
   "outputs": [],
   "source": [
    "# importing the class\n",
    "from sklearn.neighbors import KNeighborsClassifier"
   ]
  },
  {
   "cell_type": "code",
   "execution_count": 29,
   "id": "8b109ab7",
   "metadata": {},
   "outputs": [
    {
     "data": {
      "image/png": "[encoded data removed]",
      "text/plain": [
       "<Figure size 640x480 with 1 Axes>"
      ]
     },
     "metadata": {},
     "output_type": "display_data"
    }
   ],
   "source": [
    "# running a small test to see which K gives the better accuracy\n",
    "metric_k = []\n",
    "neighbors = np.arange(3,15)\n",
    "from sklearn.metrics import confusion_matrix,accuracy_score\n",
    "for k in neighbors:\n",
    "    classifier = KNeighborsClassifier(n_neighbors = k,metric ='euclidean')\n",
    "    classifier.fit(x_train,y_train)\n",
    "    y_predictions = classifier.predict(x_test)\n",
    "    acc = accuracy_score(y_test,y_predictions)\n",
    "    metric_k.append(acc)\n",
    "# plotting a graph to see the best performing k\n",
    "plt.plot(neighbors,metric_k,'o-')\n",
    "plt.xlabel('k')\n",
    "plt.ylabel('Accuracy')\n",
    "plt.grid()\n",
    "plt.show()"
   ]
  },
  {
   "cell_type": "markdown",
   "id": "d4b3deae",
   "metadata": {},
   "source": [
    "Using K as 11"
   ]
  },
  {
   "cell_type": "code",
   "execution_count": 30,
   "id": "06717547",
   "metadata": {},
   "outputs": [],
   "source": [
    "# creating a knn model\n",
    "classifier = KNeighborsClassifier(n_neighbors = 11,metric ='euclidean')\n",
    "classifier = classifier.fit(x_train,y_train)\n",
    "y_predictions = classifier.predict(x_test)"
   ]
  },
  {
   "cell_type": "code",
   "execution_count": 31,
   "id": "985aa6ee",
   "metadata": {},
   "outputs": [
    {
     "name": "stdout",
     "output_type": "stream",
     "text": [
      "Accuracy =  0.8268156424581006\n",
      "[[93 12]\n",
      " [19 55]]\n"
     ]
    }
   ],
   "source": [
    "# displaying the test scores\n",
    "print(\"Accuracy = \",accuracy_score(y_test,y_predictions))\n",
    "print(confusion_matrix(y_test,y_predictions))"
   ]
  },
  {
   "cell_type": "markdown",
   "id": "5e23d796",
   "metadata": {},
   "source": [
    "### SVM"
   ]
  },
  {
   "cell_type": "code",
   "execution_count": 32,
   "id": "cca4e3af",
   "metadata": {},
   "outputs": [],
   "source": [
    "# creating SVM Model\n",
    "from sklearn.svm import SVC\n",
    "svmclf = SVC(kernel='linear')\n",
    "svmclf = svmclf.fit(x_train,y_train)\n",
    "y_predictions = svmclf.predict(x_test)"
   ]
  },
  {
   "cell_type": "code",
   "execution_count": 33,
   "id": "23f346fb",
   "metadata": {},
   "outputs": [
    {
     "name": "stdout",
     "output_type": "stream",
     "text": [
      "Accuracy =  0.7821229050279329\n",
      "[[88 17]\n",
      " [22 52]]\n"
     ]
    }
   ],
   "source": [
    "# displaying the accuracy score\n",
    "print(\"Accuracy = \",accuracy_score(y_test,y_predictions))\n",
    "print(confusion_matrix(y_test,y_predictions))"
   ]
  },
  {
   "cell_type": "code",
   "execution_count": 34,
   "id": "abae6a4f",
   "metadata": {},
   "outputs": [],
   "source": [
    "# import K-Fold and Stratified Kfold libraries and creating an instance of each\n",
    "from sklearn.model_selection import KFold, StratifiedKFold, cross_val_score\n",
    "kfold_validator = KFold(20)\n",
    "skfold_validator = StratifiedKFold(n_splits=20)"
   ]
  },
  {
   "cell_type": "markdown",
   "id": "8038d551",
   "metadata": {},
   "source": [
    "### K-Fold KNN"
   ]
  },
  {
   "cell_type": "code",
   "execution_count": 35,
   "id": "96b6d577",
   "metadata": {},
   "outputs": [],
   "source": [
    "# doing K-Fold validation on the previous knn model\n",
    "cv_result = cross_val_score(classifier,x,y,cv =kfold_validator)"
   ]
  },
  {
   "cell_type": "code",
   "execution_count": 36,
   "id": "2515b604",
   "metadata": {},
   "outputs": [
    {
     "name": "stdout",
     "output_type": "stream",
     "text": [
      "The average result is  0.8182070707070708\n"
     ]
    }
   ],
   "source": [
    "# displaying the average of the result.\n",
    "print(\"The average result is \",np.mean(cv_result))"
   ]
  },
  {
   "cell_type": "markdown",
   "id": "280d5dba",
   "metadata": {},
   "source": [
    "### K-FOLD stratified KNN"
   ]
  },
  {
   "cell_type": "code",
   "execution_count": 37,
   "id": "cb82f27a",
   "metadata": {},
   "outputs": [],
   "source": [
    "# doing stratified K-Fold on th previous knn model\n",
    "cv_result = cross_val_score(classifier,x,y,cv =skfold_validator)"
   ]
  },
  {
   "cell_type": "code",
   "execution_count": 38,
   "id": "ecf4fd9f",
   "metadata": {},
   "outputs": [
    {
     "name": "stdout",
     "output_type": "stream",
     "text": [
      "The average result is  0.8204545454545455\n"
     ]
    }
   ],
   "source": [
    "# displaying the average of the result.\n",
    "print(\"The average result is \",np.mean(cv_result))"
   ]
  },
  {
   "cell_type": "markdown",
   "id": "43d48300",
   "metadata": {},
   "source": [
    "### K-FOLD SVM"
   ]
  },
  {
   "cell_type": "code",
   "execution_count": 39,
   "id": "9ec1092f",
   "metadata": {},
   "outputs": [],
   "source": [
    "# doing K-Fold validation on the previous svm model\n",
    "cv_result = cross_val_score(svmclf,x,y,cv =kfold_validator)"
   ]
  },
  {
   "cell_type": "code",
   "execution_count": 40,
   "id": "1dce9f97",
   "metadata": {},
   "outputs": [
    {
     "name": "stdout",
     "output_type": "stream",
     "text": [
      "The average result is  0.7865909090909091\n"
     ]
    }
   ],
   "source": [
    "# displaying the average of the result.\n",
    "print(\"The average result is \",np.mean(cv_result))"
   ]
  },
  {
   "cell_type": "markdown",
   "id": "7eaeb95a",
   "metadata": {},
   "source": [
    "### K-Fold stratified SVM"
   ]
  },
  {
   "cell_type": "code",
   "execution_count": 41,
   "id": "07c9c9f1",
   "metadata": {},
   "outputs": [],
   "source": [
    "# doing stratified K-Fold validation on the previous svm model\n",
    "cv_result = cross_val_score(svmclf,x,y,cv =skfold_validator)"
   ]
  },
  {
   "cell_type": "code",
   "execution_count": 42,
   "id": "20dbd8d1",
   "metadata": {},
   "outputs": [
    {
     "name": "stdout",
     "output_type": "stream",
     "text": [
      "The average result is  0.7865656565656565\n"
     ]
    }
   ],
   "source": [
    "print(\"The average result is \",np.mean(cv_result))"
   ]
  },
  {
   "cell_type": "markdown",
   "id": "9ddbfd60",
   "metadata": {},
   "source": [
    "#### From the above results we can observe that K-Fold stratification for the knn model gave the best accuracy of 0.82"
   ]
  },
  {
   "cell_type": "code",
   "execution_count": null,
   "id": "8ab3ba91",
   "metadata": {},
   "outputs": [],
   "source": []
  }
 ],
 "metadata": {
  "kernelspec": {
   "display_name": "Python 3 (ipykernel)",
   "language": "python",
   "name": "python3"
  },
  "language_info": {
   "codemirror_mode": {
    "name": "ipython",
    "version": 3
   },
   "file_extension": ".py",
   "mimetype": "text/x-python",
   "name": "python",
   "nbconvert_exporter": "python",
   "pygments_lexer": "ipython3",
   "version": "3.10.9"
  }
 },
 "nbformat": 4,
 "nbformat_minor": 5
}
